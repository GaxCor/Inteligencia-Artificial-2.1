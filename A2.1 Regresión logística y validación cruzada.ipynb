{
 "cells": [
  {
   "cell_type": "markdown",
   "metadata": {},
   "source": [
    "## Análisis de Ingresos mayores de $30,000 en los Hogares en México:\n",
    "\n",
    "El análisis del ingreso de los hogares es fundamental para entender patrones socioeconómicos y apoyar en la toma de decisiones de política pública y estrategias económicas. En este proyecto, se explora y modela información proveniente de la Encuesta Nacional de Ingresos y Gastos de los Hogares (ENIGH) 2022. El objetivo principal es clasificar hogares según si tienen un ingreso alto o bajo, utilizando como umbral un ingreso trimestral superior a $30,000. Se implementa una metodología basada en regresión logística, con validación cruzada y evaluación mediante la curva ROC, para determinar la calidad predictiva del modelo generado.\n",
    "\n",
    "### 1 Importación y creación de variable binaria\n",
    "- Se crean los datos (`datos_procesados.csv`) usando las diferentes tablas.\n",
    "- Se crea una nueva variable binaria llamada `alto_ingreso`, la cual indica si el ingreso trimestral es alto (mayor a 30,000).\n"
   ]
  },
  {
   "cell_type": "code",
   "execution_count": 40,
   "metadata": {},
   "outputs": [],
   "source": [
    "import pandas as pd\n",
    "import numpy as np\n",
    "from sklearn.model_selection import train_test_split, cross_val_score\n",
    "from sklearn.linear_model import LogisticRegression\n",
    "from sklearn.metrics import confusion_matrix, accuracy_score, recall_score, roc_curve, auc\n",
    "from sklearn.preprocessing import StandardScaler\n",
    "import matplotlib.pyplot as plt\n",
    "\n",
    "\n",
    "if not pd.io.common.file_exists('datos_procesados.csv'):\n",
    "    gastos_df = pd.read_csv(\"conjunto_de_datos_gastoshogar_enigh2022_ns.csv\", low_memory=False)\n",
    "    ingresos_df = pd.read_csv(\"conjunto_de_datos_ingresos_enigh2022_ns.csv\", low_memory=False)\n",
    "    viviendas_df = pd.read_csv(\"conjunto_de_datos_viviendas_enigh2022_ns.csv\", low_memory=False)\n",
    "\n",
    "    gastos_df[\"gasto_tri\"] = pd.to_numeric(gastos_df[\"gasto_tri\"].replace(' ', np.nan), errors='coerce')\n",
    "    ingresos_df[\"ing_tri\"] = pd.to_numeric(ingresos_df[\"ing_tri\"].replace(' ', np.nan), errors='coerce')\n",
    "\n",
    "    gastos_agrupados = gastos_df.groupby(\"folioviv\", as_index=False)[\"gasto_tri\"].sum()\n",
    "    gastos_agrupados.rename(columns={\"gasto_tri\": \"gastoTot_tri\"}, inplace=True)\n",
    "\n",
    "    ingresos_agrupados = ingresos_df.groupby(\"folioviv\", as_index=False)[\"ing_tri\"].sum()\n",
    "    ingresos_agrupados.rename(columns={\"ing_tri\": \"ingTot_tri\"}, inplace=True)\n",
    "\n",
    "    variables_categoricas = [\"tipo_viv\", \"mat_pared\", \"mat_techos\", \"mat_pisos\", \"disp_agua\", \"dotac_agua\", \"excusado\", \"drenaje\", \"disp_elect\", \"combustible\", \"eli_basura\", \"tenencia\", \"tipo_adqui\", \"viv_usada\", \"tipo_finan\", \"tam_loc\", \"est_socio\"]\n",
    "    viviendas_df = pd.get_dummies(viviendas_df, columns=variables_categoricas, drop_first=True)\n",
    "\n",
    "    df_final = pd.merge(gastos_agrupados, ingresos_agrupados, on=\"folioviv\", how=\"outer\")\n",
    "    df_final = pd.merge(df_final, viviendas_df, on=\"folioviv\", how=\"left\")\n",
    "    df_final.fillna(0, inplace=True)\n",
    "\n",
    "    df_final.to_csv('datos_procesados.csv', index=False)\n",
    "else:\n",
    "    df_final = pd.read_csv('datos_procesados.csv')\n",
    "\n",
    "\n",
    "df_final['alto_ingreso'] = (df_final['ingTot_tri'] > 30000).astype(int)\n"
   ]
  },
  {
   "cell_type": "markdown",
   "metadata": {},
   "source": [
    "### 2 División de los datos (80/20)\n",
    "- Se dividen los datos en conjuntos de entrenamiento (80%) y prueba (20%).\n",
    "- Se mantiene un balance de clases.\n",
    "- Se imprimen las proporciones para verificar el balance en datos originales, entrenamiento y prueba.\n"
   ]
  },
  {
   "cell_type": "code",
   "execution_count": 41,
   "metadata": {},
   "outputs": [
    {
     "name": "stdout",
     "output_type": "stream",
     "text": [
      "Proporción original:\n",
      " alto_ingreso\n",
      "1    0.6304\n",
      "0    0.3696\n",
      "Name: proportion, dtype: float64\n",
      "Proporción entrenamiento:\n",
      " alto_ingreso\n",
      "1    0.630401\n",
      "0    0.369599\n",
      "Name: proportion, dtype: float64\n",
      "Proporción prueba:\n",
      " alto_ingreso\n",
      "1    0.630397\n",
      "0    0.369603\n",
      "Name: proportion, dtype: float64\n"
     ]
    }
   ],
   "source": [
    "\n",
    "\n",
    "X = df_final.drop(['alto_ingreso', 'ingTot_tri', 'folioviv'], axis=1)\n",
    "y = df_final['alto_ingreso']\n",
    "\n",
    "\n",
    "X_train, X_test, y_train, y_test = train_test_split(X, y, test_size=0.2, stratify=y, random_state=42)\n",
    "\n",
    "\n",
    "X_train = X_train.apply(pd.to_numeric, errors='coerce').fillna(0)\n",
    "X_test = X_test.apply(pd.to_numeric, errors='coerce').fillna(0)\n",
    "\n",
    "\n",
    "scaler = StandardScaler()\n",
    "X_train = scaler.fit_transform(X_train)\n",
    "X_test = scaler.transform(X_test)\n",
    "\n",
    "\n",
    "print(\"Proporción original:\\n\", df_final['alto_ingreso'].value_counts(normalize=True))\n",
    "print(\"Proporción entrenamiento:\\n\", y_train.value_counts(normalize=True))\n",
    "print(\"Proporción prueba:\\n\", y_test.value_counts(normalize=True))\n"
   ]
  },
  {
   "cell_type": "markdown",
   "metadata": {},
   "source": [
    "### 3 Validación cruzada con regresión logística\n",
    "- Se aplica una validación cruzada (5-fold) usando los datos de entrenamiento para estimar la exactitud del modelo.\n",
    "- El modelo utilizado es una regresión logística con un máximo de 2000 iteraciones para garantizar su convergencia.\n"
   ]
  },
  {
   "cell_type": "code",
   "execution_count": 42,
   "metadata": {},
   "outputs": [
    {
     "name": "stdout",
     "output_type": "stream",
     "text": [
      "Exactitud validación cruzada: 0.8207520474213545\n"
     ]
    }
   ],
   "source": [
    "\n",
    "\n",
    "modelo = LogisticRegression(max_iter=2000)\n",
    "scores = cross_val_score(modelo, X_train, y_train, cv=5, scoring='accuracy')\n",
    "print(\"Exactitud validación cruzada:\", scores.mean())\n"
   ]
  },
  {
   "cell_type": "markdown",
   "metadata": {},
   "source": [
    "### 4 Entrenamiento del modelo y evaluación\n",
    "- Se entrena un modelo de regresión logística en todo el conjunto de entrenamiento.\n",
    "- Se predicen probabilidades en el conjunto de prueba.\n",
    "- Se evalúa el rendimiento del modelo usando tres umbrales distintos:\n",
    "  - **0.5** (predeterminado)\n",
    "  - **0.7** (más exigente)\n",
    "  - **0.3** (más permisivo)\n",
    "- Se reportan exactitud, sensibilidad y especificidad para cada umbral utilizando la matriz de confusión.\n"
   ]
  },
  {
   "cell_type": "code",
   "execution_count": 43,
   "metadata": {},
   "outputs": [
    {
     "name": "stdout",
     "output_type": "stream",
     "text": [
      "\n",
      "Evaluación con umbral: 0.5\n",
      "Matriz de confusión:\n",
      " [[4890 1676]\n",
      " [1505 9694]]\n",
      "Exactitud: 0.8209400506614128\n",
      "Sensibilidad: 0.865613001160818\n",
      "Especificidad: 0.744745659457813\n",
      "\n",
      "Evaluación con umbral: 0.7\n",
      "Matriz de confusión:\n",
      " [[5793  773]\n",
      " [3060 8139]]\n",
      "Exactitud: 0.7842386715451731\n",
      "Sensibilidad: 0.7267613179748191\n",
      "Especificidad: 0.8822723119098386\n",
      "\n",
      "Evaluación con umbral: 0.3\n",
      "Matriz de confusión:\n",
      " [[ 3553  3013]\n",
      " [  523 10676]]\n",
      "Exactitud: 0.8009569377990431\n",
      "Sensibilidad: 0.9532994017322975\n",
      "Especificidad: 0.5411209259823332\n"
     ]
    }
   ],
   "source": [
    "\n",
    "\n",
    "modelo.fit(X_train, y_train)\n",
    "\n",
    "y_proba = modelo.predict_proba(X_test)[:, 1]\n",
    "\n",
    "for umbral in [0.5, 0.7, 0.3]:\n",
    "    y_pred = (y_proba >= umbral).astype(int)\n",
    "    cm = confusion_matrix(y_test, y_pred)\n",
    "    accuracy = accuracy_score(y_test, y_pred)\n",
    "    recall = recall_score(y_test, y_pred)\n",
    "    specificity = cm[0,0] / (cm[0,0] + cm[0,1])\n",
    "\n",
    "    print(f\"\\nEvaluación con umbral: {umbral}\")\n",
    "    print(\"Matriz de confusión:\\n\", cm)\n",
    "    print(\"Exactitud:\", accuracy)\n",
    "    print(\"Sensibilidad:\", recall)\n",
    "    print(\"Especificidad:\", specificity)\n"
   ]
  },
  {
   "cell_type": "markdown",
   "metadata": {},
   "source": [
    "### 5 Curva ROC y valor de AUC\n",
    "- Se genera y grafica la curva ROC, que visualiza la capacidad predictiva del modelo.\n",
    "- Se calcula el área bajo la curva (AUC), valor que resume la calidad global del modelo: un valor cercano a 1 indica muy buen desempeño, mientras que un valor cercano a 0.5 indica desempeño aleatorio.\n"
   ]
  },
  {
   "cell_type": "code",
   "execution_count": 44,
   "metadata": {},
   "outputs": [
    {
     "data": {
      "image/png": "[encoded data removed]",
      "text/plain": [
       "<Figure size 640x480 with 1 Axes>"
      ]
     },
     "metadata": {},
     "output_type": "display_data"
    }
   ],
   "source": [
    "\n",
    "fpr, tpr, _ = roc_curve(y_test, y_proba)\n",
    "roc_auc = auc(fpr, tpr)\n",
    "\n",
    "plt.figure()\n",
    "plt.plot(fpr, tpr, color='darkorange', lw=2, label='Curva ROC (área = %0.2f)' % roc_auc)\n",
    "plt.plot([0, 1], [0, 1], color='navy', lw=2, linestyle='--')\n",
    "plt.xlabel('Tasa de Falsos Positivos')\n",
    "plt.ylabel('Tasa de Verdaderos Positivos')\n",
    "plt.title('Curva ROC')\n",
    "plt.legend(loc=\"lower right\")\n",
    "plt.show()\n"
   ]
  },
  {
   "cell_type": "markdown",
   "metadata": {},
   "source": [
    "### 6 Interpretación de los resultados del modelo\n",
    "El modelo de regresión logística generó un valor de AUC = 0.90, indicando un desempeño excelente. Esto significa que el modelo tiene una alta capacidad para discriminar correctamente entre hogares con ingresos altos (mayores a $30,000 trimestrales) y hogares con ingresos bajos."
   ]
  },
  {
   "cell_type": "code",
   "execution_count": 45,
   "metadata": {},
   "outputs": [
    {
     "name": "stdout",
     "output_type": "stream",
     "text": [
      "Coeficientes:\n",
      " gastoTot_tri     3.359401\n",
      "pago_viv         0.296138\n",
      "tot_hom          0.292043\n",
      "tot_resid        0.277756\n",
      "renta            0.244359\n",
      "                   ...   \n",
      "combustible_1   -0.124517\n",
      "tenencia_4      -0.139230\n",
      "est_dis         -0.155350\n",
      "tenencia_2      -0.206148\n",
      "pago_mesp       -0.338350\n",
      "Length: 127, dtype: float64\n"
     ]
    }
   ],
   "source": [
    "\n",
    "coeficientes = pd.Series(modelo.coef_[0], index=X.columns)\n",
    "print(\"Coeficientes:\\n\", coeficientes.sort_values(ascending=False))"
   ]
  },
  {
   "cell_type": "markdown",
   "metadata": {},
   "source": [
    "### Conclusión\n",
    "\n",
    "El modelo de regresión logística entrenado logró un alto rendimiento, con un valor de AUC igual a 0.90, lo cual indica una excelente capacidad predictiva para distinguir hogares con ingresos altos frente a aquellos con ingresos más bajos. La validación cruzada confirmó una exactitud robusta, respaldando la consistencia del modelo. Las variables que más influyen en clasificar un hogar como de alto ingreso incluyen el gasto trimestral total, el tipo de pago por la vivienda y ciertas condiciones estructurales y de tenencia de la vivienda.\n",
    "\n",
    "## Referencias\n",
    "- INEGI (2022). Encuesta Nacional de Ingresos y Gastos de los Hogares (ENIGH) 2022. Disponible en: https://www.inegi.org.mx/app/descarga/ficha.html?tit=1626216&ag=0&f=csv\n",
    "- ChatGPT (2025). Análisis y Modelado de Datos en Python. Generado con inteligencia artificial por OpenAI. "
   ]
  }
 ],
 "metadata": {
  "kernelspec": {
   "display_name": "Python 3",
   "language": "python",
   "name": "python3"
  },
  "language_info": {
   "codemirror_mode": {
    "name": "ipython",
    "version": 3
   },
   "file_extension": ".py",
   "mimetype": "text/x-python",
   "name": "python",
   "nbconvert_exporter": "python",
   "pygments_lexer": "ipython3",
   "version": "3.12.6"
  }
 },
 "nbformat": 4,
 "nbformat_minor": 2
}
